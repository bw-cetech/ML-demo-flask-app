{
 "cells": [
  {
   "cell_type": "markdown",
   "metadata": {},
   "source": [
    "Connect to cost control data and create revenue dataset"
   ]
  },
  {
   "cell_type": "code",
   "execution_count": 1,
   "metadata": {},
   "outputs": [],
   "source": [
    "realm = 'temper'"
   ]
  },
  {
   "cell_type": "code",
   "execution_count": 2,
   "metadata": {},
   "outputs": [],
   "source": [
    "import os\n",
    "\n",
    "import mysql.connector\n",
    "import pandas as pd\n",
    "\n",
    "from datetime import datetime\n",
    "import calendar\n",
    "\n",
    "mydb = mysql.connector.connect(\n",
    "  host=os.environ['UAT_RDS_CLONE_HOST'],\n",
    "  user=os.environ['UAT_RDS_CLONE_USER'],\n",
    "  password=os.environ['UAT_RDS_CLONE_PASSWORD'],\n",
    "  database=\"rr_core\"\n",
    ")"
   ]
  },
  {
   "cell_type": "code",
   "execution_count": 3,
   "metadata": {},
   "outputs": [
    {
     "name": "stderr",
     "output_type": "stream",
     "text": [
      "/var/folders/t6/ysrkn8dn65b6bsvj1sb28p9m0000gp/T/ipykernel_4066/1444831783.py:21: UserWarning: pandas only supports SQLAlchemy connectable (engine/connection) or database string URI or sqlite3 DBAPI2 connection. Other DBAPI2 objects are not tested. Please consider using SQLAlchemy.\n",
      "  df_coco = pd.read_sql(myQuery, con=mydb)\n"
     ]
    },
    {
     "data": {
      "text/html": [
       "<div>\n",
       "<style scoped>\n",
       "    .dataframe tbody tr th:only-of-type {\n",
       "        vertical-align: middle;\n",
       "    }\n",
       "\n",
       "    .dataframe tbody tr th {\n",
       "        vertical-align: top;\n",
       "    }\n",
       "\n",
       "    .dataframe thead th {\n",
       "        text-align: right;\n",
       "    }\n",
       "</style>\n",
       "<table border=\"1\" class=\"dataframe\">\n",
       "  <thead>\n",
       "    <tr style=\"text-align: right;\">\n",
       "      <th></th>\n",
       "      <th>date_of_business</th>\n",
       "      <th>Open</th>\n",
       "      <th>High</th>\n",
       "      <th>Low</th>\n",
       "      <th>Close</th>\n",
       "      <th>AdjClose</th>\n",
       "      <th>Volume</th>\n",
       "      <th>UpperB</th>\n",
       "      <th>UpperB</th>\n",
       "      <th>PercentB</th>\n",
       "    </tr>\n",
       "  </thead>\n",
       "  <tbody>\n",
       "    <tr>\n",
       "      <th>0</th>\n",
       "      <td>2022-02-28</td>\n",
       "      <td>2885.99</td>\n",
       "      <td>2885.99</td>\n",
       "      <td>254.86</td>\n",
       "      <td>4448.80</td>\n",
       "      <td>4448.80</td>\n",
       "      <td>4</td>\n",
       "      <td>2741.6905</td>\n",
       "      <td>144.2995</td>\n",
       "      <td>0.648712</td>\n",
       "    </tr>\n",
       "    <tr>\n",
       "      <th>1</th>\n",
       "      <td>2022-03-01</td>\n",
       "      <td>1549.74</td>\n",
       "      <td>3743.79</td>\n",
       "      <td>1549.74</td>\n",
       "      <td>10725.93</td>\n",
       "      <td>10725.93</td>\n",
       "      <td>4</td>\n",
       "      <td>3556.6005</td>\n",
       "      <td>187.1895</td>\n",
       "      <td>0.349041</td>\n",
       "    </tr>\n",
       "    <tr>\n",
       "      <th>2</th>\n",
       "      <td>2022-03-02</td>\n",
       "      <td>2759.32</td>\n",
       "      <td>7517.14</td>\n",
       "      <td>2759.32</td>\n",
       "      <td>21043.59</td>\n",
       "      <td>21043.59</td>\n",
       "      <td>4</td>\n",
       "      <td>7141.2830</td>\n",
       "      <td>375.8570</td>\n",
       "      <td>0.357218</td>\n",
       "    </tr>\n",
       "    <tr>\n",
       "      <th>3</th>\n",
       "      <td>2022-03-03</td>\n",
       "      <td>1750.21</td>\n",
       "      <td>5047.83</td>\n",
       "      <td>1750.21</td>\n",
       "      <td>13326.09</td>\n",
       "      <td>13326.09</td>\n",
       "      <td>4</td>\n",
       "      <td>4795.4385</td>\n",
       "      <td>252.3915</td>\n",
       "      <td>0.378793</td>\n",
       "    </tr>\n",
       "    <tr>\n",
       "      <th>4</th>\n",
       "      <td>2022-03-04</td>\n",
       "      <td>2116.42</td>\n",
       "      <td>4198.25</td>\n",
       "      <td>2116.42</td>\n",
       "      <td>6314.67</td>\n",
       "      <td>6314.67</td>\n",
       "      <td>2</td>\n",
       "      <td>3988.3375</td>\n",
       "      <td>209.9125</td>\n",
       "      <td>0.664841</td>\n",
       "    </tr>\n",
       "  </tbody>\n",
       "</table>\n",
       "</div>"
      ],
      "text/plain": [
       "  date_of_business     Open     High      Low     Close  AdjClose  Volume  \\\n",
       "0       2022-02-28  2885.99  2885.99   254.86   4448.80   4448.80       4   \n",
       "1       2022-03-01  1549.74  3743.79  1549.74  10725.93  10725.93       4   \n",
       "2       2022-03-02  2759.32  7517.14  2759.32  21043.59  21043.59       4   \n",
       "3       2022-03-03  1750.21  5047.83  1750.21  13326.09  13326.09       4   \n",
       "4       2022-03-04  2116.42  4198.25  2116.42   6314.67   6314.67       2   \n",
       "\n",
       "      UpperB    UpperB  PercentB  \n",
       "0  2741.6905  144.2995  0.648712  \n",
       "1  3556.6005  187.1895  0.349041  \n",
       "2  7141.2830  375.8570  0.357218  \n",
       "3  4795.4385  252.3915  0.378793  \n",
       "4  3988.3375  209.9125  0.664841  "
      ]
     },
     "execution_count": 3,
     "metadata": {},
     "output_type": "execute_result"
    }
   ],
   "source": [
    "# get data\n",
    "\n",
    "myQuery = f'''-- Date,Open,High,Low,Close,Adj Close,Volume,UpperB,LowerB,PercentB\n",
    "\n",
    "SELECT\n",
    "\tdate_of_business,\n",
    "\tdata_value as 'Open',\n",
    "\tmax(data_value) as High,\n",
    "\tmin(data_value) as Low,\n",
    "\tsum(data_value) as Close,\n",
    "\tsum(data_value) as AdjClose,\n",
    "\tcount(id) as Volume,\n",
    "\tmax(data_value) * 0.95 as UpperB,\n",
    "\t max(data_value) * 0.05 as UpperB,\n",
    "\tmax(data_value) / sum(data_value) as PercentB\n",
    "FROM `collated_cc_costcontrol_data`\n",
    "WHERE type_id = 2 and realm = '{realm}'\n",
    "GROUP BY date_of_business\n",
    "'''\n",
    "\n",
    "df_coco = pd.read_sql(myQuery, con=mydb)\n",
    "\n",
    "mydb.close()\n",
    "\n",
    "df_coco.head() # TAKES 3 MINS"
   ]
  },
  {
   "cell_type": "code",
   "execution_count": 4,
   "metadata": {},
   "outputs": [
    {
     "data": {
      "text/plain": [
       "(860, 10)"
      ]
     },
     "execution_count": 4,
     "metadata": {},
     "output_type": "execute_result"
    }
   ],
   "source": [
    "df_coco.shape"
   ]
  },
  {
   "cell_type": "code",
   "execution_count": 5,
   "metadata": {},
   "outputs": [
    {
     "data": {
      "text/plain": [
       "Index(['date_of_business', 'Open', 'High', 'Low', 'Close', 'AdjClose',\n",
       "       'Volume', 'UpperB', 'UpperB', 'PercentB'],\n",
       "      dtype='object')"
      ]
     },
     "execution_count": 5,
     "metadata": {},
     "output_type": "execute_result"
    }
   ],
   "source": [
    "df_coco.columns"
   ]
  },
  {
   "cell_type": "code",
   "execution_count": 7,
   "metadata": {},
   "outputs": [],
   "source": [
    "df_coco.to_csv(f'./data/coco_{realm}.csv', index=False)"
   ]
  },
  {
   "cell_type": "code",
   "execution_count": null,
   "metadata": {},
   "outputs": [],
   "source": []
  },
  {
   "cell_type": "code",
   "execution_count": null,
   "metadata": {},
   "outputs": [],
   "source": []
  }
 ],
 "metadata": {
  "kernelspec": {
   "display_name": ".venv",
   "language": "python",
   "name": "python3"
  },
  "language_info": {
   "codemirror_mode": {
    "name": "ipython",
    "version": 3
   },
   "file_extension": ".py",
   "mimetype": "text/x-python",
   "name": "python",
   "nbconvert_exporter": "python",
   "pygments_lexer": "ipython3",
   "version": "3.12.3"
  }
 },
 "nbformat": 4,
 "nbformat_minor": 2
}
