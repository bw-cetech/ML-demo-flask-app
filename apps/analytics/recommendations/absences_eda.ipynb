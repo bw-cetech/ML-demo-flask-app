{
 "cells": [
  {
   "cell_type": "markdown",
   "metadata": {},
   "source": [
    "TO DO\n",
    "\n",
    "\n",
    "add duration of absence metric\n",
    "\n",
    "\n",
    "make sure top/bottom num outliers for this month not same as num absences"
   ]
  },
  {
   "cell_type": "code",
   "execution_count": 6,
   "metadata": {},
   "outputs": [],
   "source": [
    "import os\n",
    "\n",
    "import pandas as pd\n",
    "\n",
    "import mysql.connector\n",
    "\n",
    "from datetime import datetime"
   ]
  },
  {
   "cell_type": "code",
   "execution_count": 7,
   "metadata": {},
   "outputs": [],
   "source": [
    "rds_host = os.getenv(\"ML_RDS_HOST\")\n",
    "rds_user = os.getenv(\"ML_RDS_USER\")\n",
    "rds_pwd = os.getenv(\"ML_RDS_PASSWORD\")\n",
    "\n",
    "rds_db = 'rr_core'"
   ]
  },
  {
   "cell_type": "code",
   "execution_count": 8,
   "metadata": {},
   "outputs": [],
   "source": [
    "# filter only tier 1,2 realms - keep as tuple for mysql query\n",
    "realms_shortlist = ('gusto', \n",
    "                    'camino', \n",
    "                    'maray', \n",
    "                    'pizzapilgrims', \n",
    "                    'signaturepubs', \n",
    "                    'brewdog', \n",
    "                    'preto', \n",
    "                    'temper', \n",
    "                    'bonnieandwild', \n",
    "                    'brownsofbrockley', \n",
    "                    'itison', \n",
    "                    'roseacre', \n",
    "                    'spaceandthyme', \n",
    "                    'housecafes', \n",
    "                    'gh4ox1gb', \n",
    "                    'namco', \n",
    "                    'hotelfolk', \n",
    "                    'warnerleisure', \n",
    "                    'nq64')"
   ]
  },
  {
   "cell_type": "code",
   "execution_count": 59,
   "metadata": {},
   "outputs": [
    {
     "name": "stderr",
     "output_type": "stream",
     "text": [
      "/var/folders/t6/ysrkn8dn65b6bsvj1sb28p9m0000gp/T/ipykernel_31641/3047248617.py:14: UserWarning: pandas only supports SQLAlchemy connectable (engine/connection) or database string URI or sqlite3 DBAPI2 connection. Other DBAPI2 objects are not tested. Please consider using SQLAlchemy.\n",
      "  absences = pd.read_sql_query(query, con=conn) # NB this gets closed after returning to main()\n"
     ]
    }
   ],
   "source": [
    "# NB query is about 6 secs for 2024 only, tier 1 and 2 clients or\n",
    "# 40 secs for tier 1 and 2 clients, or 3 mins for all realms\n",
    "\n",
    "query = f\"\"\"select \n",
    "                *,\n",
    "        -- no. of hours prior to start date the request was submitted\n",
    "        TIME_TO_SEC(timediff(CONVERT(submit_date, DATETIME),CONVERT(date_start, DATETIME)))/(24*60*60) as request_lt_days \n",
    "        from collated_absence_header\n",
    "        where year(date_start) >= 2024 and cancelled = 0 and approved = 1 and realm in {realms_shortlist}\"\"\"\n",
    "\n",
    "conn = mysql.connector.connect(\n",
    "        host=rds_host, user=rds_user, password=rds_pwd, database=rds_db\n",
    "        )\n",
    "\n",
    "absences = pd.read_sql_query(query, con=conn) # NB this gets closed after returning to main()\n",
    "\n",
    "conn.close()\n"
   ]
  },
  {
   "cell_type": "code",
   "execution_count": 60,
   "metadata": {},
   "outputs": [
    {
     "data": {
      "text/plain": [
       "(131547, 30)"
      ]
     },
     "execution_count": 60,
     "metadata": {},
     "output_type": "execute_result"
    }
   ],
   "source": [
    "absences.shape"
   ]
  },
  {
   "cell_type": "code",
   "execution_count": 12,
   "metadata": {},
   "outputs": [
    {
     "data": {
      "text/html": [
       "<div>\n",
       "<style scoped>\n",
       "    .dataframe tbody tr th:only-of-type {\n",
       "        vertical-align: middle;\n",
       "    }\n",
       "\n",
       "    .dataframe tbody tr th {\n",
       "        vertical-align: top;\n",
       "    }\n",
       "\n",
       "    .dataframe thead th {\n",
       "        text-align: right;\n",
       "    }\n",
       "</style>\n",
       "<table border=\"1\" class=\"dataframe\">\n",
       "  <thead>\n",
       "    <tr style=\"text-align: right;\">\n",
       "      <th></th>\n",
       "      <th>id</th>\n",
       "      <th>user_id</th>\n",
       "      <th>type_id</th>\n",
       "      <th>date_start</th>\n",
       "      <th>date_end</th>\n",
       "      <th>scope</th>\n",
       "      <th>total_hours</th>\n",
       "      <th>total_days</th>\n",
       "      <th>details</th>\n",
       "      <th>approved</th>\n",
       "      <th>...</th>\n",
       "      <th>start_time_local</th>\n",
       "      <th>end_time_local</th>\n",
       "      <th>payroll_calendar_id</th>\n",
       "      <th>review_message</th>\n",
       "      <th>edited_user_id</th>\n",
       "      <th>edited_date</th>\n",
       "      <th>request_days_not_suggested</th>\n",
       "      <th>type_reason_id</th>\n",
       "      <th>realm</th>\n",
       "      <th>request_lt_days</th>\n",
       "    </tr>\n",
       "  </thead>\n",
       "  <tbody>\n",
       "    <tr>\n",
       "      <th>0</th>\n",
       "      <td>1</td>\n",
       "      <td>6</td>\n",
       "      <td>1</td>\n",
       "      <td>2022-09-12</td>\n",
       "      <td>2022-09-16</td>\n",
       "      <td>0</td>\n",
       "      <td>40.0</td>\n",
       "      <td>5.0</td>\n",
       "      <td>None</td>\n",
       "      <td>1</td>\n",
       "      <td>...</td>\n",
       "      <td>NaT</td>\n",
       "      <td>NaT</td>\n",
       "      <td>1.0</td>\n",
       "      <td>None</td>\n",
       "      <td>NaN</td>\n",
       "      <td>NaT</td>\n",
       "      <td>0</td>\n",
       "      <td>NaN</td>\n",
       "      <td>brownsofbrockley</td>\n",
       "      <td>1.5199</td>\n",
       "    </tr>\n",
       "    <tr>\n",
       "      <th>1</th>\n",
       "      <td>1</td>\n",
       "      <td>702</td>\n",
       "      <td>1</td>\n",
       "      <td>2022-02-28</td>\n",
       "      <td>2022-03-04</td>\n",
       "      <td>0</td>\n",
       "      <td>36.0</td>\n",
       "      <td>4.0</td>\n",
       "      <td>None</td>\n",
       "      <td>1</td>\n",
       "      <td>...</td>\n",
       "      <td>NaT</td>\n",
       "      <td>NaT</td>\n",
       "      <td>NaN</td>\n",
       "      <td>None</td>\n",
       "      <td>NaN</td>\n",
       "      <td>NaT</td>\n",
       "      <td>0</td>\n",
       "      <td>NaN</td>\n",
       "      <td>gusto</td>\n",
       "      <td>-16.5460</td>\n",
       "    </tr>\n",
       "    <tr>\n",
       "      <th>2</th>\n",
       "      <td>1</td>\n",
       "      <td>136</td>\n",
       "      <td>1</td>\n",
       "      <td>2022-01-31</td>\n",
       "      <td>2022-02-08</td>\n",
       "      <td>0</td>\n",
       "      <td>48.0</td>\n",
       "      <td>6.0</td>\n",
       "      <td>None</td>\n",
       "      <td>1</td>\n",
       "      <td>...</td>\n",
       "      <td>NaT</td>\n",
       "      <td>NaT</td>\n",
       "      <td>NaN</td>\n",
       "      <td>None</td>\n",
       "      <td>NaN</td>\n",
       "      <td>NaT</td>\n",
       "      <td>0</td>\n",
       "      <td>NaN</td>\n",
       "      <td>itison</td>\n",
       "      <td>-4.4284</td>\n",
       "    </tr>\n",
       "    <tr>\n",
       "      <th>3</th>\n",
       "      <td>1</td>\n",
       "      <td>1071</td>\n",
       "      <td>1</td>\n",
       "      <td>2020-08-17</td>\n",
       "      <td>2020-08-23</td>\n",
       "      <td>0</td>\n",
       "      <td>37.5</td>\n",
       "      <td>5.0</td>\n",
       "      <td>None</td>\n",
       "      <td>1</td>\n",
       "      <td>...</td>\n",
       "      <td>NaT</td>\n",
       "      <td>NaT</td>\n",
       "      <td>NaN</td>\n",
       "      <td>None</td>\n",
       "      <td>NaN</td>\n",
       "      <td>NaT</td>\n",
       "      <td>0</td>\n",
       "      <td>NaN</td>\n",
       "      <td>pizzapilgrims</td>\n",
       "      <td>-12.6075</td>\n",
       "    </tr>\n",
       "    <tr>\n",
       "      <th>4</th>\n",
       "      <td>1</td>\n",
       "      <td>81</td>\n",
       "      <td>1</td>\n",
       "      <td>2022-03-14</td>\n",
       "      <td>2022-03-23</td>\n",
       "      <td>0</td>\n",
       "      <td>100.0</td>\n",
       "      <td>10.0</td>\n",
       "      <td>None</td>\n",
       "      <td>1</td>\n",
       "      <td>...</td>\n",
       "      <td>NaT</td>\n",
       "      <td>NaT</td>\n",
       "      <td>1.0</td>\n",
       "      <td>None</td>\n",
       "      <td>72.0</td>\n",
       "      <td>2023-02-07 14:13:41</td>\n",
       "      <td>0</td>\n",
       "      <td>NaN</td>\n",
       "      <td>preto</td>\n",
       "      <td>0.4323</td>\n",
       "    </tr>\n",
       "  </tbody>\n",
       "</table>\n",
       "<p>5 rows × 30 columns</p>\n",
       "</div>"
      ],
      "text/plain": [
       "   id  user_id  type_id  date_start    date_end  scope  total_hours  \\\n",
       "0   1        6        1  2022-09-12  2022-09-16      0         40.0   \n",
       "1   1      702        1  2022-02-28  2022-03-04      0         36.0   \n",
       "2   1      136        1  2022-01-31  2022-02-08      0         48.0   \n",
       "3   1     1071        1  2020-08-17  2020-08-23      0         37.5   \n",
       "4   1       81        1  2022-03-14  2022-03-23      0        100.0   \n",
       "\n",
       "   total_days details  approved  ...  start_time_local end_time_local  \\\n",
       "0         5.0    None         1  ...               NaT            NaT   \n",
       "1         4.0    None         1  ...               NaT            NaT   \n",
       "2         6.0    None         1  ...               NaT            NaT   \n",
       "3         5.0    None         1  ...               NaT            NaT   \n",
       "4        10.0    None         1  ...               NaT            NaT   \n",
       "\n",
       "   payroll_calendar_id review_message  edited_user_id         edited_date  \\\n",
       "0                  1.0           None             NaN                 NaT   \n",
       "1                  NaN           None             NaN                 NaT   \n",
       "2                  NaN           None             NaN                 NaT   \n",
       "3                  NaN           None             NaN                 NaT   \n",
       "4                  1.0           None            72.0 2023-02-07 14:13:41   \n",
       "\n",
       "  request_days_not_suggested type_reason_id             realm  request_lt_days  \n",
       "0                          0            NaN  brownsofbrockley           1.5199  \n",
       "1                          0            NaN             gusto         -16.5460  \n",
       "2                          0            NaN            itison          -4.4284  \n",
       "3                          0            NaN     pizzapilgrims         -12.6075  \n",
       "4                          0            NaN             preto           0.4323  \n",
       "\n",
       "[5 rows x 30 columns]"
      ]
     },
     "execution_count": 12,
     "metadata": {},
     "output_type": "execute_result"
    }
   ],
   "source": [
    "absences.head()"
   ]
  },
  {
   "cell_type": "code",
   "execution_count": 18,
   "metadata": {},
   "outputs": [
    {
     "data": {
      "text/plain": [
       "id                                      int64\n",
       "user_id                                 int64\n",
       "type_id                                 int64\n",
       "date_start                     datetime64[ns]\n",
       "date_end                               object\n",
       "scope                                   int64\n",
       "total_hours                           float64\n",
       "total_days                            float64\n",
       "details                                object\n",
       "approved                                int64\n",
       "approval_userid                       float64\n",
       "approval_date                  datetime64[ns]\n",
       "submit_userid                           int64\n",
       "submit_date                    datetime64[ns]\n",
       "cancelled                               int64\n",
       "cancel_userid                          object\n",
       "cancel_date                            object\n",
       "external_id                            object\n",
       "user_hours_day                        float64\n",
       "user_hours_halfday                    float64\n",
       "start_time_local              timedelta64[ns]\n",
       "end_time_local                timedelta64[ns]\n",
       "payroll_calendar_id                   float64\n",
       "review_message                         object\n",
       "edited_user_id                        float64\n",
       "edited_date                    datetime64[ns]\n",
       "request_days_not_suggested              int64\n",
       "type_reason_id                        float64\n",
       "realm                                  object\n",
       "request_lt_days                       float64\n",
       "dtype: object"
      ]
     },
     "execution_count": 18,
     "metadata": {},
     "output_type": "execute_result"
    }
   ],
   "source": [
    "absences.dtypes"
   ]
  },
  {
   "cell_type": "code",
   "execution_count": 20,
   "metadata": {},
   "outputs": [],
   "source": [
    "# time info\n",
    "\n",
    "# convert dates to pandas datetime format\n",
    "absences['date_start'] = pd.to_datetime(absences['date_start'], format='%Y-%m-%d')\n",
    "\n",
    "absences['start_year'] = absences['date_start'].dt.year\n",
    "absences['start_month'] = absences['date_start'].dt.month\n",
    "absences['start_day'] = absences['date_start'].dt.day"
   ]
  },
  {
   "cell_type": "code",
   "execution_count": 21,
   "metadata": {},
   "outputs": [
    {
     "data": {
      "text/html": [
       "<div>\n",
       "<style scoped>\n",
       "    .dataframe tbody tr th:only-of-type {\n",
       "        vertical-align: middle;\n",
       "    }\n",
       "\n",
       "    .dataframe tbody tr th {\n",
       "        vertical-align: top;\n",
       "    }\n",
       "\n",
       "    .dataframe thead th {\n",
       "        text-align: right;\n",
       "    }\n",
       "</style>\n",
       "<table border=\"1\" class=\"dataframe\">\n",
       "  <thead>\n",
       "    <tr style=\"text-align: right;\">\n",
       "      <th></th>\n",
       "      <th>id</th>\n",
       "      <th>user_id</th>\n",
       "      <th>type_id</th>\n",
       "      <th>date_start</th>\n",
       "      <th>date_end</th>\n",
       "      <th>scope</th>\n",
       "      <th>total_hours</th>\n",
       "      <th>total_days</th>\n",
       "      <th>details</th>\n",
       "      <th>approved</th>\n",
       "      <th>...</th>\n",
       "      <th>review_message</th>\n",
       "      <th>edited_user_id</th>\n",
       "      <th>edited_date</th>\n",
       "      <th>request_days_not_suggested</th>\n",
       "      <th>type_reason_id</th>\n",
       "      <th>realm</th>\n",
       "      <th>request_lt_days</th>\n",
       "      <th>start_year</th>\n",
       "      <th>start_month</th>\n",
       "      <th>start_day</th>\n",
       "    </tr>\n",
       "  </thead>\n",
       "  <tbody>\n",
       "    <tr>\n",
       "      <th>0</th>\n",
       "      <td>1</td>\n",
       "      <td>6</td>\n",
       "      <td>1</td>\n",
       "      <td>2022-09-12</td>\n",
       "      <td>2022-09-16</td>\n",
       "      <td>0</td>\n",
       "      <td>40.0</td>\n",
       "      <td>5.0</td>\n",
       "      <td>None</td>\n",
       "      <td>1</td>\n",
       "      <td>...</td>\n",
       "      <td>None</td>\n",
       "      <td>NaN</td>\n",
       "      <td>NaT</td>\n",
       "      <td>0</td>\n",
       "      <td>NaN</td>\n",
       "      <td>brownsofbrockley</td>\n",
       "      <td>1.5199</td>\n",
       "      <td>2022</td>\n",
       "      <td>9</td>\n",
       "      <td>12</td>\n",
       "    </tr>\n",
       "    <tr>\n",
       "      <th>1</th>\n",
       "      <td>1</td>\n",
       "      <td>702</td>\n",
       "      <td>1</td>\n",
       "      <td>2022-02-28</td>\n",
       "      <td>2022-03-04</td>\n",
       "      <td>0</td>\n",
       "      <td>36.0</td>\n",
       "      <td>4.0</td>\n",
       "      <td>None</td>\n",
       "      <td>1</td>\n",
       "      <td>...</td>\n",
       "      <td>None</td>\n",
       "      <td>NaN</td>\n",
       "      <td>NaT</td>\n",
       "      <td>0</td>\n",
       "      <td>NaN</td>\n",
       "      <td>gusto</td>\n",
       "      <td>-16.5460</td>\n",
       "      <td>2022</td>\n",
       "      <td>2</td>\n",
       "      <td>28</td>\n",
       "    </tr>\n",
       "    <tr>\n",
       "      <th>2</th>\n",
       "      <td>1</td>\n",
       "      <td>136</td>\n",
       "      <td>1</td>\n",
       "      <td>2022-01-31</td>\n",
       "      <td>2022-02-08</td>\n",
       "      <td>0</td>\n",
       "      <td>48.0</td>\n",
       "      <td>6.0</td>\n",
       "      <td>None</td>\n",
       "      <td>1</td>\n",
       "      <td>...</td>\n",
       "      <td>None</td>\n",
       "      <td>NaN</td>\n",
       "      <td>NaT</td>\n",
       "      <td>0</td>\n",
       "      <td>NaN</td>\n",
       "      <td>itison</td>\n",
       "      <td>-4.4284</td>\n",
       "      <td>2022</td>\n",
       "      <td>1</td>\n",
       "      <td>31</td>\n",
       "    </tr>\n",
       "    <tr>\n",
       "      <th>3</th>\n",
       "      <td>1</td>\n",
       "      <td>1071</td>\n",
       "      <td>1</td>\n",
       "      <td>2020-08-17</td>\n",
       "      <td>2020-08-23</td>\n",
       "      <td>0</td>\n",
       "      <td>37.5</td>\n",
       "      <td>5.0</td>\n",
       "      <td>None</td>\n",
       "      <td>1</td>\n",
       "      <td>...</td>\n",
       "      <td>None</td>\n",
       "      <td>NaN</td>\n",
       "      <td>NaT</td>\n",
       "      <td>0</td>\n",
       "      <td>NaN</td>\n",
       "      <td>pizzapilgrims</td>\n",
       "      <td>-12.6075</td>\n",
       "      <td>2020</td>\n",
       "      <td>8</td>\n",
       "      <td>17</td>\n",
       "    </tr>\n",
       "    <tr>\n",
       "      <th>4</th>\n",
       "      <td>1</td>\n",
       "      <td>81</td>\n",
       "      <td>1</td>\n",
       "      <td>2022-03-14</td>\n",
       "      <td>2022-03-23</td>\n",
       "      <td>0</td>\n",
       "      <td>100.0</td>\n",
       "      <td>10.0</td>\n",
       "      <td>None</td>\n",
       "      <td>1</td>\n",
       "      <td>...</td>\n",
       "      <td>None</td>\n",
       "      <td>72.0</td>\n",
       "      <td>2023-02-07 14:13:41</td>\n",
       "      <td>0</td>\n",
       "      <td>NaN</td>\n",
       "      <td>preto</td>\n",
       "      <td>0.4323</td>\n",
       "      <td>2022</td>\n",
       "      <td>3</td>\n",
       "      <td>14</td>\n",
       "    </tr>\n",
       "  </tbody>\n",
       "</table>\n",
       "<p>5 rows × 33 columns</p>\n",
       "</div>"
      ],
      "text/plain": [
       "   id  user_id  type_id date_start    date_end  scope  total_hours  \\\n",
       "0   1        6        1 2022-09-12  2022-09-16      0         40.0   \n",
       "1   1      702        1 2022-02-28  2022-03-04      0         36.0   \n",
       "2   1      136        1 2022-01-31  2022-02-08      0         48.0   \n",
       "3   1     1071        1 2020-08-17  2020-08-23      0         37.5   \n",
       "4   1       81        1 2022-03-14  2022-03-23      0        100.0   \n",
       "\n",
       "   total_days details  approved  ...  review_message edited_user_id  \\\n",
       "0         5.0    None         1  ...            None            NaN   \n",
       "1         4.0    None         1  ...            None            NaN   \n",
       "2         6.0    None         1  ...            None            NaN   \n",
       "3         5.0    None         1  ...            None            NaN   \n",
       "4        10.0    None         1  ...            None           72.0   \n",
       "\n",
       "          edited_date request_days_not_suggested  type_reason_id  \\\n",
       "0                 NaT                          0             NaN   \n",
       "1                 NaT                          0             NaN   \n",
       "2                 NaT                          0             NaN   \n",
       "3                 NaT                          0             NaN   \n",
       "4 2023-02-07 14:13:41                          0             NaN   \n",
       "\n",
       "              realm request_lt_days start_year  start_month  start_day  \n",
       "0  brownsofbrockley          1.5199       2022            9         12  \n",
       "1             gusto        -16.5460       2022            2         28  \n",
       "2            itison         -4.4284       2022            1         31  \n",
       "3     pizzapilgrims        -12.6075       2020            8         17  \n",
       "4             preto          0.4323       2022            3         14  \n",
       "\n",
       "[5 rows x 33 columns]"
      ]
     },
     "execution_count": 21,
     "metadata": {},
     "output_type": "execute_result"
    }
   ],
   "source": [
    "absences.head()"
   ]
  },
  {
   "cell_type": "code",
   "execution_count": 22,
   "metadata": {},
   "outputs": [],
   "source": [
    "# filter this months absences (based on absence start date)\n",
    "monthly_absences = absences[(absences.start_year==datetime.now().year) & \n",
    "                                (absences.start_month==datetime.now().month)]"
   ]
  },
  {
   "cell_type": "code",
   "execution_count": 23,
   "metadata": {},
   "outputs": [
    {
     "data": {
      "text/plain": [
       "(14788, 33)"
      ]
     },
     "execution_count": 23,
     "metadata": {},
     "output_type": "execute_result"
    }
   ],
   "source": [
    "monthly_absences.shape"
   ]
  },
  {
   "cell_type": "code",
   "execution_count": 24,
   "metadata": {},
   "outputs": [
    {
     "data": {
      "text/html": [
       "<div>\n",
       "<style scoped>\n",
       "    .dataframe tbody tr th:only-of-type {\n",
       "        vertical-align: middle;\n",
       "    }\n",
       "\n",
       "    .dataframe tbody tr th {\n",
       "        vertical-align: top;\n",
       "    }\n",
       "\n",
       "    .dataframe thead th {\n",
       "        text-align: right;\n",
       "    }\n",
       "</style>\n",
       "<table border=\"1\" class=\"dataframe\">\n",
       "  <thead>\n",
       "    <tr style=\"text-align: right;\">\n",
       "      <th></th>\n",
       "      <th>id</th>\n",
       "      <th>user_id</th>\n",
       "      <th>type_id</th>\n",
       "      <th>date_start</th>\n",
       "      <th>scope</th>\n",
       "      <th>total_hours</th>\n",
       "      <th>total_days</th>\n",
       "      <th>approved</th>\n",
       "      <th>approval_userid</th>\n",
       "      <th>approval_date</th>\n",
       "      <th>...</th>\n",
       "      <th>end_time_local</th>\n",
       "      <th>payroll_calendar_id</th>\n",
       "      <th>edited_user_id</th>\n",
       "      <th>edited_date</th>\n",
       "      <th>request_days_not_suggested</th>\n",
       "      <th>type_reason_id</th>\n",
       "      <th>request_lt_days</th>\n",
       "      <th>start_year</th>\n",
       "      <th>start_month</th>\n",
       "      <th>start_day</th>\n",
       "    </tr>\n",
       "  </thead>\n",
       "  <tbody>\n",
       "    <tr>\n",
       "      <th>count</th>\n",
       "      <td>14788.000000</td>\n",
       "      <td>14788.000000</td>\n",
       "      <td>14788.00000</td>\n",
       "      <td>14788</td>\n",
       "      <td>14788.000000</td>\n",
       "      <td>14788.000000</td>\n",
       "      <td>14788.000000</td>\n",
       "      <td>14788.0</td>\n",
       "      <td>14788.000000</td>\n",
       "      <td>14788</td>\n",
       "      <td>...</td>\n",
       "      <td>346</td>\n",
       "      <td>14721.000000</td>\n",
       "      <td>9629.000000</td>\n",
       "      <td>9629</td>\n",
       "      <td>14788.000000</td>\n",
       "      <td>1422.000000</td>\n",
       "      <td>14788.000000</td>\n",
       "      <td>14788.0</td>\n",
       "      <td>14788.0</td>\n",
       "      <td>14788.000000</td>\n",
       "    </tr>\n",
       "    <tr>\n",
       "      <th>mean</th>\n",
       "      <td>236354.248039</td>\n",
       "      <td>5277.760143</td>\n",
       "      <td>75.35610</td>\n",
       "      <td>2024-08-15 17:25:31.728428544</td>\n",
       "      <td>0.199351</td>\n",
       "      <td>16.484268</td>\n",
       "      <td>2.218420</td>\n",
       "      <td>1.0</td>\n",
       "      <td>1892.668583</td>\n",
       "      <td>2024-06-30 04:05:52.493373184</td>\n",
       "      <td>...</td>\n",
       "      <td>0 days 16:11:26.705202312</td>\n",
       "      <td>2.346444</td>\n",
       "      <td>2941.531623</td>\n",
       "      <td>2024-06-22 20:00:02.978710272</td>\n",
       "      <td>0.154517</td>\n",
       "      <td>8.781997</td>\n",
       "      <td>-20.142767</td>\n",
       "      <td>2024.0</td>\n",
       "      <td>8.0</td>\n",
       "      <td>15.726062</td>\n",
       "    </tr>\n",
       "    <tr>\n",
       "      <th>min</th>\n",
       "      <td>5.000000</td>\n",
       "      <td>2.000000</td>\n",
       "      <td>1.00000</td>\n",
       "      <td>2024-08-01 00:00:00</td>\n",
       "      <td>0.000000</td>\n",
       "      <td>1.000000</td>\n",
       "      <td>0.500000</td>\n",
       "      <td>1.0</td>\n",
       "      <td>0.000000</td>\n",
       "      <td>2023-01-23 12:36:26</td>\n",
       "      <td>...</td>\n",
       "      <td>0 days 00:00:00</td>\n",
       "      <td>1.000000</td>\n",
       "      <td>1.000000</td>\n",
       "      <td>2023-01-23 12:36:26</td>\n",
       "      <td>0.000000</td>\n",
       "      <td>1.000000</td>\n",
       "      <td>-34.958300</td>\n",
       "      <td>2024.0</td>\n",
       "      <td>8.0</td>\n",
       "      <td>1.000000</td>\n",
       "    </tr>\n",
       "    <tr>\n",
       "      <th>25%</th>\n",
       "      <td>35378.750000</td>\n",
       "      <td>1211.000000</td>\n",
       "      <td>1.00000</td>\n",
       "      <td>2024-08-08 00:00:00</td>\n",
       "      <td>0.000000</td>\n",
       "      <td>6.760000</td>\n",
       "      <td>1.000000</td>\n",
       "      <td>1.0</td>\n",
       "      <td>0.000000</td>\n",
       "      <td>2024-06-19 09:40:38.750000128</td>\n",
       "      <td>...</td>\n",
       "      <td>0 days 13:30:00</td>\n",
       "      <td>2.000000</td>\n",
       "      <td>383.000000</td>\n",
       "      <td>2024-06-07 17:53:35</td>\n",
       "      <td>0.000000</td>\n",
       "      <td>7.000000</td>\n",
       "      <td>-34.958300</td>\n",
       "      <td>2024.0</td>\n",
       "      <td>8.0</td>\n",
       "      <td>8.000000</td>\n",
       "    </tr>\n",
       "    <tr>\n",
       "      <th>50%</th>\n",
       "      <td>255758.000000</td>\n",
       "      <td>3902.500000</td>\n",
       "      <td>4.00000</td>\n",
       "      <td>2024-08-16 00:00:00</td>\n",
       "      <td>0.000000</td>\n",
       "      <td>8.000000</td>\n",
       "      <td>1.000000</td>\n",
       "      <td>1.0</td>\n",
       "      <td>305.000000</td>\n",
       "      <td>2024-07-25 15:47:58</td>\n",
       "      <td>...</td>\n",
       "      <td>0 days 16:00:00</td>\n",
       "      <td>2.000000</td>\n",
       "      <td>1598.000000</td>\n",
       "      <td>2024-07-18 13:30:51</td>\n",
       "      <td>0.000000</td>\n",
       "      <td>7.000000</td>\n",
       "      <td>-23.372400</td>\n",
       "      <td>2024.0</td>\n",
       "      <td>8.0</td>\n",
       "      <td>16.000000</td>\n",
       "    </tr>\n",
       "    <tr>\n",
       "      <th>75%</th>\n",
       "      <td>461836.750000</td>\n",
       "      <td>9799.000000</td>\n",
       "      <td>5.00000</td>\n",
       "      <td>2024-08-23 00:00:00</td>\n",
       "      <td>0.000000</td>\n",
       "      <td>16.882500</td>\n",
       "      <td>2.000000</td>\n",
       "      <td>1.0</td>\n",
       "      <td>2609.000000</td>\n",
       "      <td>2024-08-10 10:46:21.750000128</td>\n",
       "      <td>...</td>\n",
       "      <td>0 days 21:00:00</td>\n",
       "      <td>4.000000</td>\n",
       "      <td>4608.000000</td>\n",
       "      <td>2024-08-04 09:56:46</td>\n",
       "      <td>0.000000</td>\n",
       "      <td>9.000000</td>\n",
       "      <td>-4.446875</td>\n",
       "      <td>2024.0</td>\n",
       "      <td>8.0</td>\n",
       "      <td>23.000000</td>\n",
       "    </tr>\n",
       "    <tr>\n",
       "      <th>max</th>\n",
       "      <td>479790.000000</td>\n",
       "      <td>13064.000000</td>\n",
       "      <td>1012.00000</td>\n",
       "      <td>2024-08-31 00:00:00</td>\n",
       "      <td>3.000000</td>\n",
       "      <td>1064.000000</td>\n",
       "      <td>158.000000</td>\n",
       "      <td>1.0</td>\n",
       "      <td>12858.000000</td>\n",
       "      <td>2024-08-27 20:09:50</td>\n",
       "      <td>...</td>\n",
       "      <td>0 days 23:55:00</td>\n",
       "      <td>5.000000</td>\n",
       "      <td>12858.000000</td>\n",
       "      <td>2024-08-27 17:23:36</td>\n",
       "      <td>1.000000</td>\n",
       "      <td>22.000000</td>\n",
       "      <td>21.356500</td>\n",
       "      <td>2024.0</td>\n",
       "      <td>8.0</td>\n",
       "      <td>31.000000</td>\n",
       "    </tr>\n",
       "    <tr>\n",
       "      <th>std</th>\n",
       "      <td>189857.411269</td>\n",
       "      <td>4412.012221</td>\n",
       "      <td>259.50928</td>\n",
       "      <td>NaN</td>\n",
       "      <td>0.629643</td>\n",
       "      <td>25.917335</td>\n",
       "      <td>3.592873</td>\n",
       "      <td>0.0</td>\n",
       "      <td>2959.560647</td>\n",
       "      <td>NaN</td>\n",
       "      <td>...</td>\n",
       "      <td>0 days 05:28:37.569509797</td>\n",
       "      <td>1.179856</td>\n",
       "      <td>3243.024185</td>\n",
       "      <td>NaN</td>\n",
       "      <td>0.361456</td>\n",
       "      <td>3.960255</td>\n",
       "      <td>14.705890</td>\n",
       "      <td>0.0</td>\n",
       "      <td>0.0</td>\n",
       "      <td>8.820188</td>\n",
       "    </tr>\n",
       "  </tbody>\n",
       "</table>\n",
       "<p>8 rows × 26 columns</p>\n",
       "</div>"
      ],
      "text/plain": [
       "                  id       user_id      type_id  \\\n",
       "count   14788.000000  14788.000000  14788.00000   \n",
       "mean   236354.248039   5277.760143     75.35610   \n",
       "min         5.000000      2.000000      1.00000   \n",
       "25%     35378.750000   1211.000000      1.00000   \n",
       "50%    255758.000000   3902.500000      4.00000   \n",
       "75%    461836.750000   9799.000000      5.00000   \n",
       "max    479790.000000  13064.000000   1012.00000   \n",
       "std    189857.411269   4412.012221    259.50928   \n",
       "\n",
       "                          date_start         scope   total_hours  \\\n",
       "count                          14788  14788.000000  14788.000000   \n",
       "mean   2024-08-15 17:25:31.728428544      0.199351     16.484268   \n",
       "min              2024-08-01 00:00:00      0.000000      1.000000   \n",
       "25%              2024-08-08 00:00:00      0.000000      6.760000   \n",
       "50%              2024-08-16 00:00:00      0.000000      8.000000   \n",
       "75%              2024-08-23 00:00:00      0.000000     16.882500   \n",
       "max              2024-08-31 00:00:00      3.000000   1064.000000   \n",
       "std                              NaN      0.629643     25.917335   \n",
       "\n",
       "         total_days  approved  approval_userid                  approval_date  \\\n",
       "count  14788.000000   14788.0     14788.000000                          14788   \n",
       "mean       2.218420       1.0      1892.668583  2024-06-30 04:05:52.493373184   \n",
       "min        0.500000       1.0         0.000000            2023-01-23 12:36:26   \n",
       "25%        1.000000       1.0         0.000000  2024-06-19 09:40:38.750000128   \n",
       "50%        1.000000       1.0       305.000000            2024-07-25 15:47:58   \n",
       "75%        2.000000       1.0      2609.000000  2024-08-10 10:46:21.750000128   \n",
       "max      158.000000       1.0     12858.000000            2024-08-27 20:09:50   \n",
       "std        3.592873       0.0      2959.560647                            NaN   \n",
       "\n",
       "       ...             end_time_local payroll_calendar_id  edited_user_id  \\\n",
       "count  ...                        346        14721.000000     9629.000000   \n",
       "mean   ...  0 days 16:11:26.705202312            2.346444     2941.531623   \n",
       "min    ...            0 days 00:00:00            1.000000        1.000000   \n",
       "25%    ...            0 days 13:30:00            2.000000      383.000000   \n",
       "50%    ...            0 days 16:00:00            2.000000     1598.000000   \n",
       "75%    ...            0 days 21:00:00            4.000000     4608.000000   \n",
       "max    ...            0 days 23:55:00            5.000000    12858.000000   \n",
       "std    ...  0 days 05:28:37.569509797            1.179856     3243.024185   \n",
       "\n",
       "                         edited_date  request_days_not_suggested  \\\n",
       "count                           9629                14788.000000   \n",
       "mean   2024-06-22 20:00:02.978710272                    0.154517   \n",
       "min              2023-01-23 12:36:26                    0.000000   \n",
       "25%              2024-06-07 17:53:35                    0.000000   \n",
       "50%              2024-07-18 13:30:51                    0.000000   \n",
       "75%              2024-08-04 09:56:46                    0.000000   \n",
       "max              2024-08-27 17:23:36                    1.000000   \n",
       "std                              NaN                    0.361456   \n",
       "\n",
       "      type_reason_id request_lt_days  start_year  start_month     start_day  \n",
       "count    1422.000000    14788.000000     14788.0      14788.0  14788.000000  \n",
       "mean        8.781997      -20.142767      2024.0          8.0     15.726062  \n",
       "min         1.000000      -34.958300      2024.0          8.0      1.000000  \n",
       "25%         7.000000      -34.958300      2024.0          8.0      8.000000  \n",
       "50%         7.000000      -23.372400      2024.0          8.0     16.000000  \n",
       "75%         9.000000       -4.446875      2024.0          8.0     23.000000  \n",
       "max        22.000000       21.356500      2024.0          8.0     31.000000  \n",
       "std         3.960255       14.705890         0.0          0.0      8.820188  \n",
       "\n",
       "[8 rows x 26 columns]"
      ]
     },
     "execution_count": 24,
     "metadata": {},
     "output_type": "execute_result"
    }
   ],
   "source": [
    "monthly_absences.describe()"
   ]
  },
  {
   "cell_type": "code",
   "execution_count": 25,
   "metadata": {},
   "outputs": [
    {
     "data": {
      "text/plain": [
       "count    14788.000000\n",
       "mean       -20.142767\n",
       "std         14.705890\n",
       "min        -34.958300\n",
       "25%        -34.958300\n",
       "50%        -23.372400\n",
       "75%         -4.446875\n",
       "max         21.356500\n",
       "Name: request_lt_days, dtype: float64"
      ]
     },
     "execution_count": 25,
     "metadata": {},
     "output_type": "execute_result"
    }
   ],
   "source": [
    "monthly_absences.request_lt_days.describe()"
   ]
  },
  {
   "cell_type": "code",
   "execution_count": 26,
   "metadata": {},
   "outputs": [
    {
     "data": {
      "text/plain": [
       "array(['gh4ox1gb', 'brownsofbrockley', 'spaceandthyme', 'preto',\n",
       "       'bonnieandwild', 'maray', 'nq64', 'temper', 'camino', 'housecafes',\n",
       "       'itison', 'gusto', 'roseacre', 'pizzapilgrims', 'namco',\n",
       "       'signaturepubs', 'brewdog', 'warnerleisure'], dtype=object)"
      ]
     },
     "execution_count": 26,
     "metadata": {},
     "output_type": "execute_result"
    }
   ],
   "source": [
    "monthly_absences.realm.unique()"
   ]
  },
  {
   "cell_type": "code",
   "execution_count": 27,
   "metadata": {},
   "outputs": [
    {
     "data": {
      "text/plain": [
       "18"
      ]
     },
     "execution_count": 27,
     "metadata": {},
     "output_type": "execute_result"
    }
   ],
   "source": [
    "monthly_absences.realm.nunique() # number of realms"
   ]
  },
  {
   "cell_type": "code",
   "execution_count": 42,
   "metadata": {},
   "outputs": [
    {
     "data": {
      "text/plain": [
       "array([[<Axes: title={'center': 'bonnieandwild'}>,\n",
       "        <Axes: title={'center': 'brewdog'}>,\n",
       "        <Axes: title={'center': 'brownsofbrockley'}>,\n",
       "        <Axes: title={'center': 'camino'}>],\n",
       "       [<Axes: title={'center': 'gh4ox1gb'}>,\n",
       "        <Axes: title={'center': 'gusto'}>,\n",
       "        <Axes: title={'center': 'housecafes'}>,\n",
       "        <Axes: title={'center': 'itison'}>],\n",
       "       [<Axes: title={'center': 'maray'}>,\n",
       "        <Axes: title={'center': 'namco'}>,\n",
       "        <Axes: title={'center': 'nq64'}>,\n",
       "        <Axes: title={'center': 'pizzapilgrims'}>],\n",
       "       [<Axes: title={'center': 'preto'}>,\n",
       "        <Axes: title={'center': 'roseacre'}>,\n",
       "        <Axes: title={'center': 'signaturepubs'}>,\n",
       "        <Axes: title={'center': 'spaceandthyme'}>],\n",
       "       [<Axes: title={'center': 'temper'}>,\n",
       "        <Axes: title={'center': 'warnerleisure'}>, <Axes: >, <Axes: >]],\n",
       "      dtype=object)"
      ]
     },
     "execution_count": 42,
     "metadata": {},
     "output_type": "execute_result"
    },
    {
     "data": {
      "image/png": "[encoded data removed]",
      "text/plain": [
       "<Figure size 1000x800 with 20 Axes>"
      ]
     },
     "metadata": {},
     "output_type": "display_data"
    }
   ],
   "source": [
    "monthly_absences.hist(column=\"request_lt_days\", by=\"realm\", figsize=(10, 8))"
   ]
  },
  {
   "cell_type": "code",
   "execution_count": 33,
   "metadata": {},
   "outputs": [
    {
     "name": "stderr",
     "output_type": "stream",
     "text": [
      "/var/folders/t6/ysrkn8dn65b6bsvj1sb28p9m0000gp/T/ipykernel_31641/337730302.py:14: UserWarning: set_ticklabels() should only be used with a fixed number of ticks, i.e. after set_ticks() or using a FixedLocator.\n",
      "  ax.set_xticklabels(ax.get_xticklabels(),rotation=90)\n"
     ]
    },
    {
     "data": {
      "text/plain": [
       "[Text(0, 0, 'gh4ox1gb'),\n",
       " Text(1, 0, 'brownsofbrockley'),\n",
       " Text(2, 0, 'spaceandthyme'),\n",
       " Text(3, 0, 'preto'),\n",
       " Text(4, 0, 'bonnieandwild'),\n",
       " Text(5, 0, 'maray'),\n",
       " Text(6, 0, 'nq64'),\n",
       " Text(7, 0, 'temper'),\n",
       " Text(8, 0, 'camino'),\n",
       " Text(9, 0, 'housecafes'),\n",
       " Text(10, 0, 'itison'),\n",
       " Text(11, 0, 'gusto'),\n",
       " Text(12, 0, 'roseacre'),\n",
       " Text(13, 0, 'pizzapilgrims'),\n",
       " Text(14, 0, 'namco'),\n",
       " Text(15, 0, 'signaturepubs'),\n",
       " Text(16, 0, 'brewdog'),\n",
       " Text(17, 0, 'warnerleisure')]"
      ]
     },
     "execution_count": 33,
     "metadata": {},
     "output_type": "execute_result"
    },
    {
     "data": {
      "image/png": "[encoded data removed]",
      "text/plain": [
       "<Figure size 640x480 with 1 Axes>"
      ]
     },
     "metadata": {},
     "output_type": "display_data"
    }
   ],
   "source": [
    "# plot leadtime given for absence request\n",
    "# NB -ve here is GOOD as its making an absence request ahead of the scheduled work day, while +ve is BAD\n",
    "# as it is a request made AFTER the scheduled work day\n",
    "# \n",
    "\n",
    "import seaborn\n",
    " \n",
    "seaborn.set(style='whitegrid')\n",
    " \n",
    "ax = seaborn.boxplot(x='realm',\n",
    "                y='request_lt_days',\n",
    "                data=monthly_absences)\n",
    "\n",
    "ax.set_xticklabels(ax.get_xticklabels(),rotation=90)"
   ]
  },
  {
   "cell_type": "code",
   "execution_count": 44,
   "metadata": {},
   "outputs": [],
   "source": [
    "# outliers function\n",
    "\n",
    "import numpy as np\n",
    "\n",
    "def get_num_outliers (column, ptile):\n",
    "\n",
    "    #q1 = np.percentile(column, 25)\n",
    "    q3 = np.percentile(column, ptile)\n",
    "\n",
    "    return sum(column>q3) # use sum((column<q1) | (column>q3)) for ALL outliers"
   ]
  },
  {
   "cell_type": "code",
   "execution_count": 48,
   "metadata": {},
   "outputs": [
    {
     "name": "stderr",
     "output_type": "stream",
     "text": [
      "/var/folders/t6/ysrkn8dn65b6bsvj1sb28p9m0000gp/T/ipykernel_31641/935312368.py:3: DeprecationWarning: DataFrameGroupBy.apply operated on the grouping columns. This behavior is deprecated, and in a future version of pandas the grouping columns will be excluded from the operation. Either pass `include_groups=False` to exclude the groupings or explicitly select the grouping columns after groupby to silence this warning.\n",
      "  monthly_absence_summary = monthly_absences.groupby(by = ['realm'], as_index = False).apply(lambda x: pd.Series({'num_absences': x['id'].count(),\n"
     ]
    },
    {
     "data": {
      "text/html": [
       "<div>\n",
       "<style scoped>\n",
       "    .dataframe tbody tr th:only-of-type {\n",
       "        vertical-align: middle;\n",
       "    }\n",
       "\n",
       "    .dataframe tbody tr th {\n",
       "        vertical-align: top;\n",
       "    }\n",
       "\n",
       "    .dataframe thead th {\n",
       "        text-align: right;\n",
       "    }\n",
       "</style>\n",
       "<table border=\"1\" class=\"dataframe\">\n",
       "  <thead>\n",
       "    <tr style=\"text-align: right;\">\n",
       "      <th></th>\n",
       "      <th>realm</th>\n",
       "      <th>num_absences</th>\n",
       "      <th>total_absence_duration</th>\n",
       "      <th>avg_absence_duration</th>\n",
       "      <th>avg_request_leadtime</th>\n",
       "      <th>num_outliers_75</th>\n",
       "      <th>num_outliers_95</th>\n",
       "      <th>outlier_proportion</th>\n",
       "    </tr>\n",
       "  </thead>\n",
       "  <tbody>\n",
       "    <tr>\n",
       "      <th>0</th>\n",
       "      <td>bonnieandwild</td>\n",
       "      <td>95.0</td>\n",
       "      <td>229.5</td>\n",
       "      <td>17.992211</td>\n",
       "      <td>-16.373012</td>\n",
       "      <td>24.0</td>\n",
       "      <td>5.0</td>\n",
       "      <td>0.052632</td>\n",
       "    </tr>\n",
       "    <tr>\n",
       "      <th>1</th>\n",
       "      <td>brewdog</td>\n",
       "      <td>3179.0</td>\n",
       "      <td>7400.5</td>\n",
       "      <td>17.890315</td>\n",
       "      <td>-20.444703</td>\n",
       "      <td>795.0</td>\n",
       "      <td>159.0</td>\n",
       "      <td>0.050016</td>\n",
       "    </tr>\n",
       "    <tr>\n",
       "      <th>2</th>\n",
       "      <td>brownsofbrockley</td>\n",
       "      <td>44.0</td>\n",
       "      <td>106.0</td>\n",
       "      <td>17.679091</td>\n",
       "      <td>-20.488802</td>\n",
       "      <td>11.0</td>\n",
       "      <td>3.0</td>\n",
       "      <td>0.068182</td>\n",
       "    </tr>\n",
       "    <tr>\n",
       "      <th>3</th>\n",
       "      <td>camino</td>\n",
       "      <td>174.0</td>\n",
       "      <td>396.0</td>\n",
       "      <td>18.721437</td>\n",
       "      <td>-14.970526</td>\n",
       "      <td>44.0</td>\n",
       "      <td>9.0</td>\n",
       "      <td>0.051724</td>\n",
       "    </tr>\n",
       "    <tr>\n",
       "      <th>4</th>\n",
       "      <td>gh4ox1gb</td>\n",
       "      <td>373.0</td>\n",
       "      <td>935.5</td>\n",
       "      <td>16.762198</td>\n",
       "      <td>-21.360412</td>\n",
       "      <td>93.0</td>\n",
       "      <td>19.0</td>\n",
       "      <td>0.050938</td>\n",
       "    </tr>\n",
       "    <tr>\n",
       "      <th>5</th>\n",
       "      <td>gusto</td>\n",
       "      <td>824.0</td>\n",
       "      <td>2049.5</td>\n",
       "      <td>18.523556</td>\n",
       "      <td>-20.008694</td>\n",
       "      <td>206.0</td>\n",
       "      <td>42.0</td>\n",
       "      <td>0.050971</td>\n",
       "    </tr>\n",
       "    <tr>\n",
       "      <th>6</th>\n",
       "      <td>housecafes</td>\n",
       "      <td>209.0</td>\n",
       "      <td>481.5</td>\n",
       "      <td>19.493014</td>\n",
       "      <td>-13.745751</td>\n",
       "      <td>52.0</td>\n",
       "      <td>11.0</td>\n",
       "      <td>0.052632</td>\n",
       "    </tr>\n",
       "    <tr>\n",
       "      <th>7</th>\n",
       "      <td>itison</td>\n",
       "      <td>300.0</td>\n",
       "      <td>631.0</td>\n",
       "      <td>17.503267</td>\n",
       "      <td>-24.665182</td>\n",
       "      <td>75.0</td>\n",
       "      <td>15.0</td>\n",
       "      <td>0.050000</td>\n",
       "    </tr>\n",
       "    <tr>\n",
       "      <th>8</th>\n",
       "      <td>maray</td>\n",
       "      <td>132.0</td>\n",
       "      <td>331.0</td>\n",
       "      <td>18.894697</td>\n",
       "      <td>-20.579307</td>\n",
       "      <td>33.0</td>\n",
       "      <td>7.0</td>\n",
       "      <td>0.053030</td>\n",
       "    </tr>\n",
       "    <tr>\n",
       "      <th>9</th>\n",
       "      <td>namco</td>\n",
       "      <td>1064.0</td>\n",
       "      <td>2444.0</td>\n",
       "      <td>16.878055</td>\n",
       "      <td>-20.267070</td>\n",
       "      <td>266.0</td>\n",
       "      <td>54.0</td>\n",
       "      <td>0.050752</td>\n",
       "    </tr>\n",
       "    <tr>\n",
       "      <th>10</th>\n",
       "      <td>nq64</td>\n",
       "      <td>268.0</td>\n",
       "      <td>543.5</td>\n",
       "      <td>18.060299</td>\n",
       "      <td>-21.810073</td>\n",
       "      <td>67.0</td>\n",
       "      <td>14.0</td>\n",
       "      <td>0.052239</td>\n",
       "    </tr>\n",
       "    <tr>\n",
       "      <th>11</th>\n",
       "      <td>pizzapilgrims</td>\n",
       "      <td>749.0</td>\n",
       "      <td>1961.5</td>\n",
       "      <td>20.883418</td>\n",
       "      <td>-18.802370</td>\n",
       "      <td>187.0</td>\n",
       "      <td>38.0</td>\n",
       "      <td>0.050734</td>\n",
       "    </tr>\n",
       "    <tr>\n",
       "      <th>12</th>\n",
       "      <td>preto</td>\n",
       "      <td>112.0</td>\n",
       "      <td>396.0</td>\n",
       "      <td>26.332500</td>\n",
       "      <td>-14.016146</td>\n",
       "      <td>28.0</td>\n",
       "      <td>6.0</td>\n",
       "      <td>0.053571</td>\n",
       "    </tr>\n",
       "    <tr>\n",
       "      <th>13</th>\n",
       "      <td>roseacre</td>\n",
       "      <td>538.0</td>\n",
       "      <td>1114.0</td>\n",
       "      <td>12.413327</td>\n",
       "      <td>-21.282113</td>\n",
       "      <td>135.0</td>\n",
       "      <td>27.0</td>\n",
       "      <td>0.050186</td>\n",
       "    </tr>\n",
       "    <tr>\n",
       "      <th>14</th>\n",
       "      <td>signaturepubs</td>\n",
       "      <td>1055.0</td>\n",
       "      <td>2120.5</td>\n",
       "      <td>15.584275</td>\n",
       "      <td>-16.655960</td>\n",
       "      <td>264.0</td>\n",
       "      <td>53.0</td>\n",
       "      <td>0.050237</td>\n",
       "    </tr>\n",
       "    <tr>\n",
       "      <th>15</th>\n",
       "      <td>spaceandthyme</td>\n",
       "      <td>103.0</td>\n",
       "      <td>164.5</td>\n",
       "      <td>12.834951</td>\n",
       "      <td>-16.491137</td>\n",
       "      <td>26.0</td>\n",
       "      <td>6.0</td>\n",
       "      <td>0.058252</td>\n",
       "    </tr>\n",
       "    <tr>\n",
       "      <th>16</th>\n",
       "      <td>temper</td>\n",
       "      <td>261.0</td>\n",
       "      <td>585.0</td>\n",
       "      <td>20.267548</td>\n",
       "      <td>-12.451018</td>\n",
       "      <td>65.0</td>\n",
       "      <td>13.0</td>\n",
       "      <td>0.049808</td>\n",
       "    </tr>\n",
       "    <tr>\n",
       "      <th>17</th>\n",
       "      <td>warnerleisure</td>\n",
       "      <td>5308.0</td>\n",
       "      <td>10916.5</td>\n",
       "      <td>14.449060</td>\n",
       "      <td>-21.352688</td>\n",
       "      <td>1327.0</td>\n",
       "      <td>266.0</td>\n",
       "      <td>0.050113</td>\n",
       "    </tr>\n",
       "  </tbody>\n",
       "</table>\n",
       "</div>"
      ],
      "text/plain": [
       "               realm  num_absences  total_absence_duration  \\\n",
       "0      bonnieandwild          95.0                   229.5   \n",
       "1            brewdog        3179.0                  7400.5   \n",
       "2   brownsofbrockley          44.0                   106.0   \n",
       "3             camino         174.0                   396.0   \n",
       "4           gh4ox1gb         373.0                   935.5   \n",
       "5              gusto         824.0                  2049.5   \n",
       "6         housecafes         209.0                   481.5   \n",
       "7             itison         300.0                   631.0   \n",
       "8              maray         132.0                   331.0   \n",
       "9              namco        1064.0                  2444.0   \n",
       "10              nq64         268.0                   543.5   \n",
       "11     pizzapilgrims         749.0                  1961.5   \n",
       "12             preto         112.0                   396.0   \n",
       "13          roseacre         538.0                  1114.0   \n",
       "14     signaturepubs        1055.0                  2120.5   \n",
       "15     spaceandthyme         103.0                   164.5   \n",
       "16            temper         261.0                   585.0   \n",
       "17     warnerleisure        5308.0                 10916.5   \n",
       "\n",
       "    avg_absence_duration  avg_request_leadtime  num_outliers_75  \\\n",
       "0              17.992211            -16.373012             24.0   \n",
       "1              17.890315            -20.444703            795.0   \n",
       "2              17.679091            -20.488802             11.0   \n",
       "3              18.721437            -14.970526             44.0   \n",
       "4              16.762198            -21.360412             93.0   \n",
       "5              18.523556            -20.008694            206.0   \n",
       "6              19.493014            -13.745751             52.0   \n",
       "7              17.503267            -24.665182             75.0   \n",
       "8              18.894697            -20.579307             33.0   \n",
       "9              16.878055            -20.267070            266.0   \n",
       "10             18.060299            -21.810073             67.0   \n",
       "11             20.883418            -18.802370            187.0   \n",
       "12             26.332500            -14.016146             28.0   \n",
       "13             12.413327            -21.282113            135.0   \n",
       "14             15.584275            -16.655960            264.0   \n",
       "15             12.834951            -16.491137             26.0   \n",
       "16             20.267548            -12.451018             65.0   \n",
       "17             14.449060            -21.352688           1327.0   \n",
       "\n",
       "    num_outliers_95  outlier_proportion  \n",
       "0               5.0            0.052632  \n",
       "1             159.0            0.050016  \n",
       "2               3.0            0.068182  \n",
       "3               9.0            0.051724  \n",
       "4              19.0            0.050938  \n",
       "5              42.0            0.050971  \n",
       "6              11.0            0.052632  \n",
       "7              15.0            0.050000  \n",
       "8               7.0            0.053030  \n",
       "9              54.0            0.050752  \n",
       "10             14.0            0.052239  \n",
       "11             38.0            0.050734  \n",
       "12              6.0            0.053571  \n",
       "13             27.0            0.050186  \n",
       "14             53.0            0.050237  \n",
       "15              6.0            0.058252  \n",
       "16             13.0            0.049808  \n",
       "17            266.0            0.050113  "
      ]
     },
     "execution_count": 48,
     "metadata": {},
     "output_type": "execute_result"
    }
   ],
   "source": [
    "# summary for this month \n",
    "\n",
    "monthly_absence_summary = monthly_absences.groupby(by = ['realm'], as_index = False).apply(lambda x: pd.Series({'num_absences': x['id'].count(),\n",
    "                                                                                                'total_absence_duration': x['total_days'].sum(),\n",
    "                                                                                                'avg_absence_duration': x['total_hours'].mean(),\n",
    "                                                                                                'avg_request_leadtime': x['request_lt_days'].mean(),\n",
    "                                                                                                'num_outliers_75': get_num_outliers(x['request_lt_days'], 75),\n",
    "                                                                                                'num_outliers_95': get_num_outliers(x['request_lt_days'], 95),\n",
    "                                                                                                'outlier_proportion': get_num_outliers(x['request_lt_days'], 95) / x['id'].count()\n",
    "                                                                                                }))\n",
    "\n",
    "monthly_absence_summary \n",
    "\n"
   ]
  },
  {
   "cell_type": "code",
   "execution_count": 36,
   "metadata": {},
   "outputs": [
    {
     "data": {
      "text/plain": [
       "'warnerleisure'"
      ]
     },
     "execution_count": 36,
     "metadata": {},
     "output_type": "execute_result"
    }
   ],
   "source": [
    "most_absences = monthly_absence_summary[monthly_absence_summary.num_absences == max(monthly_absence_summary.num_absences)]\n",
    "most_absences.realm.values[0]"
   ]
  },
  {
   "cell_type": "code",
   "execution_count": 37,
   "metadata": {},
   "outputs": [
    {
     "data": {
      "text/plain": [
       "'brownsofbrockley'"
      ]
     },
     "execution_count": 37,
     "metadata": {},
     "output_type": "execute_result"
    }
   ],
   "source": [
    "least_absences = monthly_absence_summary[monthly_absence_summary.num_absences == min(monthly_absence_summary.num_absences)]\n",
    "least_absences.realm.values[0]"
   ]
  },
  {
   "cell_type": "code",
   "execution_count": 49,
   "metadata": {},
   "outputs": [
    {
     "data": {
      "text/plain": [
       "'warnerleisure'"
      ]
     },
     "execution_count": 49,
     "metadata": {},
     "output_type": "execute_result"
    }
   ],
   "source": [
    "longest_absences = monthly_absence_summary[monthly_absence_summary.total_absence_duration == max(monthly_absence_summary.total_absence_duration)]\n",
    "longest_absences.realm.values[0]"
   ]
  },
  {
   "cell_type": "code",
   "execution_count": 50,
   "metadata": {},
   "outputs": [
    {
     "data": {
      "text/plain": [
       "'brownsofbrockley'"
      ]
     },
     "execution_count": 50,
     "metadata": {},
     "output_type": "execute_result"
    }
   ],
   "source": [
    "shortest_time_on_absence = monthly_absence_summary[monthly_absence_summary.total_absence_duration == min(monthly_absence_summary.total_absence_duration)]\n",
    "shortest_time_on_absence.realm.values[0]"
   ]
  },
  {
   "cell_type": "code",
   "execution_count": 51,
   "metadata": {},
   "outputs": [
    {
     "data": {
      "text/plain": [
       "'preto'"
      ]
     },
     "execution_count": 51,
     "metadata": {},
     "output_type": "execute_result"
    }
   ],
   "source": [
    "longest_avg_absence_duration = monthly_absence_summary[monthly_absence_summary.avg_absence_duration == max(monthly_absence_summary.avg_absence_duration)]\n",
    "longest_avg_absence_duration .realm.values[0]"
   ]
  },
  {
   "cell_type": "code",
   "execution_count": 52,
   "metadata": {},
   "outputs": [
    {
     "data": {
      "text/plain": [
       "'roseacre'"
      ]
     },
     "execution_count": 52,
     "metadata": {},
     "output_type": "execute_result"
    }
   ],
   "source": [
    "shortest_avg_absence_duration = monthly_absence_summary[monthly_absence_summary.avg_absence_duration == min(monthly_absence_summary.avg_absence_duration)]\n",
    "shortest_avg_absence_duration .realm.values[0]"
   ]
  },
  {
   "cell_type": "code",
   "execution_count": 38,
   "metadata": {},
   "outputs": [
    {
     "data": {
      "text/plain": [
       "'itison'"
      ]
     },
     "execution_count": 38,
     "metadata": {},
     "output_type": "execute_result"
    }
   ],
   "source": [
    "earliest_absence_leadtime = monthly_absence_summary[monthly_absence_summary.avg_request_leadtime == min(monthly_absence_summary.avg_request_leadtime)]\n",
    "earliest_absence_leadtime.realm.values[0]"
   ]
  },
  {
   "cell_type": "code",
   "execution_count": 39,
   "metadata": {},
   "outputs": [
    {
     "data": {
      "text/plain": [
       "'temper'"
      ]
     },
     "execution_count": 39,
     "metadata": {},
     "output_type": "execute_result"
    }
   ],
   "source": [
    "latest_absence_leadtime = monthly_absence_summary[monthly_absence_summary.avg_request_leadtime == max(monthly_absence_summary.avg_request_leadtime)]\n",
    "latest_absence_requests.realm.values[0]"
   ]
  },
  {
   "cell_type": "code",
   "execution_count": 53,
   "metadata": {},
   "outputs": [
    {
     "data": {
      "text/plain": [
       "'warnerleisure'"
      ]
     },
     "execution_count": 53,
     "metadata": {},
     "output_type": "execute_result"
    }
   ],
   "source": [
    "most_num_late_absences = monthly_absence_summary[monthly_absence_summary.num_outliers_75 == max(monthly_absence_summary.num_outliers_75)]\n",
    "most_num_late_absences .realm.values[0]"
   ]
  },
  {
   "cell_type": "code",
   "execution_count": 54,
   "metadata": {},
   "outputs": [
    {
     "data": {
      "text/plain": [
       "'brownsofbrockley'"
      ]
     },
     "execution_count": 54,
     "metadata": {},
     "output_type": "execute_result"
    }
   ],
   "source": [
    "least_num_late_absences = monthly_absence_summary[monthly_absence_summary.num_outliers_75 == min(monthly_absence_summary.num_outliers_75)]\n",
    "least_num_late_absences .realm.values[0]"
   ]
  },
  {
   "cell_type": "code",
   "execution_count": 55,
   "metadata": {},
   "outputs": [
    {
     "data": {
      "text/plain": [
       "'warnerleisure'"
      ]
     },
     "execution_count": 55,
     "metadata": {},
     "output_type": "execute_result"
    }
   ],
   "source": [
    "most_num_last_min_absences = monthly_absence_summary[monthly_absence_summary.num_outliers_95 == max(monthly_absence_summary.num_outliers_95)]\n",
    "most_num_last_min_absences .realm.values[0]"
   ]
  },
  {
   "cell_type": "code",
   "execution_count": 56,
   "metadata": {},
   "outputs": [
    {
     "data": {
      "text/plain": [
       "'brownsofbrockley'"
      ]
     },
     "execution_count": 56,
     "metadata": {},
     "output_type": "execute_result"
    }
   ],
   "source": [
    "least_num_last_min_absences = monthly_absence_summary[monthly_absence_summary.num_outliers_95 == min(monthly_absence_summary.num_outliers_95)]\n",
    "least_num_last_min_absences .realm.values[0]"
   ]
  },
  {
   "cell_type": "code",
   "execution_count": 57,
   "metadata": {},
   "outputs": [
    {
     "data": {
      "text/plain": [
       "'brownsofbrockley'"
      ]
     },
     "execution_count": 57,
     "metadata": {},
     "output_type": "execute_result"
    }
   ],
   "source": [
    "highest_proportion_last_min_absences = monthly_absence_summary[monthly_absence_summary.outlier_proportion == max(monthly_absence_summary.outlier_proportion)]\n",
    "highest_proportion_last_min_absences .realm.values[0]"
   ]
  },
  {
   "cell_type": "code",
   "execution_count": 58,
   "metadata": {},
   "outputs": [
    {
     "data": {
      "text/plain": [
       "'temper'"
      ]
     },
     "execution_count": 58,
     "metadata": {},
     "output_type": "execute_result"
    }
   ],
   "source": [
    "lowest_proportion_last_min_absences = monthly_absence_summary[monthly_absence_summary.outlier_proportion == min(monthly_absence_summary.outlier_proportion)]\n",
    "lowest_proportion_last_min_absences .realm.values[0]"
   ]
  },
  {
   "cell_type": "code",
   "execution_count": null,
   "metadata": {},
   "outputs": [],
   "source": []
  },
  {
   "cell_type": "code",
   "execution_count": null,
   "metadata": {},
   "outputs": [],
   "source": []
  },
  {
   "cell_type": "code",
   "execution_count": null,
   "metadata": {},
   "outputs": [],
   "source": []
  },
  {
   "cell_type": "markdown",
   "metadata": {},
   "source": [
    "SCRAP"
   ]
  },
  {
   "cell_type": "code",
   "execution_count": 62,
   "metadata": {},
   "outputs": [
    {
     "data": {
      "text/plain": [
       "{'most_absences': '',\n",
       " 'least_absences': '',\n",
       " 'longest_absences': '',\n",
       " 'shortest_time_on_absence': '',\n",
       " 'longest_avg_absence_duration': '',\n",
       " 'shortest_avg_absence_duration': '',\n",
       " 'earliest_absence_leadtime': '',\n",
       " 'latest_absence_leadtime': '',\n",
       " 'most_num_late_absences': '',\n",
       " 'least_num_late_absences': '',\n",
       " 'most_num_last_min_absences': '',\n",
       " 'least_num_last_min_absences': '',\n",
       " 'highest_proportion_last_min_absences': '',\n",
       " 'lowest_proportion_last_min_absences': ''}"
      ]
     },
     "execution_count": 62,
     "metadata": {},
     "output_type": "execute_result"
    }
   ],
   "source": [
    "metrics_list = ['most_absences',\n",
    "                    'least_absences', \n",
    "                    'longest_absences',\n",
    "                    'shortest_time_on_absence',\n",
    "                    'longest_avg_absence_duration',\n",
    "                    'shortest_avg_absence_duration',\n",
    "                    'earliest_absence_leadtime',\n",
    "                    'latest_absence_leadtime',\n",
    "                    'most_num_late_absences',\n",
    "                    'least_num_late_absences',\n",
    "                    'most_num_last_min_absences', \n",
    "                    'least_num_last_min_absences',\n",
    "                    'highest_proportion_last_min_absences',\n",
    "                    'lowest_proportion_last_min_absences']\n",
    "    \n",
    "recommendations  = {k: \"\" for k in metrics_list}\n",
    "recommendations"
   ]
  },
  {
   "cell_type": "code",
   "execution_count": null,
   "metadata": {},
   "outputs": [],
   "source": [
    "result = absences.groupby(['realm']).apply(lambda x: pd.Series({'num_outliers': get_num_outliers(x['request_lt_days'])}))\n",
    "\n",
    "\n",
    "result\n",
    "\n"
   ]
  },
  {
   "cell_type": "markdown",
   "metadata": {},
   "source": [
    "better boxplots ?\n",
    "\n",
    "https://towardsdatascience.com/scattered-boxplots-graphing-experimental-results-with-matplotlib-seaborn-and-pandas-81f9fa8a1801\n",
    "https://www.geeksforgeeks.org/boxplot-using-seaborn-in-python/"
   ]
  },
  {
   "cell_type": "markdown",
   "metadata": {},
   "source": []
  }
 ],
 "metadata": {
  "kernelspec": {
   "display_name": ".venv",
   "language": "python",
   "name": "python3"
  },
  "language_info": {
   "codemirror_mode": {
    "name": "ipython",
    "version": 3
   },
   "file_extension": ".py",
   "mimetype": "text/x-python",
   "name": "python",
   "nbconvert_exporter": "python",
   "pygments_lexer": "ipython3",
   "version": "3.12.3"
  }
 },
 "nbformat": 4,
 "nbformat_minor": 2
}
